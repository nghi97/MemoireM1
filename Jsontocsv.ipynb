{
 "cells": [
  {
   "cell_type": "code",
   "execution_count": 3,
   "id": "9768b5d0",
   "metadata": {},
   "outputs": [],
   "source": [
    "import pandas as pd\n",
    "import json\n",
    "import csv"
   ]
  },
  {
   "cell_type": "code",
   "execution_count": 4,
   "id": "f8119410",
   "metadata": {},
   "outputs": [],
   "source": [
    "df1=pd.read_csv(\"C:\\\\Users\\\\User\\\\Desktop\\\\python\\\\mm1.csv\",usecols=['id','text','created_at','source'])\n",
    "df2=pd.read_csv(\"C:\\\\Users\\\\User\\\\Desktop\\\\python\\\\mm2.csv\",usecols=['id','text','created_at','source'])\n",
    "df3=pd.read_csv(\"C:\\\\Users\\\\User\\\\Desktop\\\\python\\\\mm3.csv\",usecols=['id','text','created_at','source'])\n",
    "df4=pd.read_csv(\"C:\\\\Users\\\\User\\\\Desktop\\\\python\\\\mm4.csv\",usecols=['id','text','created_at','source'])\n",
    "df5=pd.read_csv(\"C:\\\\Users\\\\User\\\\Desktop\\\\python\\\\mm5.csv\",usecols=['id','text','created_at','source'])\n",
    "df6=pd.read_csv(\"C:\\\\Users\\\\User\\\\Desktop\\\\python\\\\mm6.csv\",usecols=['id','text','created_at','source'])\n",
    "df7=pd.read_csv(\"C:\\\\Users\\\\User\\\\Desktop\\\\python\\\\mm7.csv\",usecols=['id','text','created_at','source'])\n",
    "df8=pd.read_csv(\"C:\\\\Users\\\\User\\\\Desktop\\\\python\\\\mm8.csv\",usecols=['id','text','created_at','source'])\n",
    "df9=pd.read_csv(\"C:\\\\Users\\\\User\\\\Desktop\\\\python\\\\mm9.csv\",usecols=['id','text','created_at','source'])\n",
    "df10=pd.read_csv(\"C:\\\\Users\\\\User\\\\Desktop\\\\python\\\\mm10.csv\",usecols=['id','text','created_at','source'])\n",
    "\n"
   ]
  },
  {
   "cell_type": "code",
   "execution_count": 5,
   "id": "59574737",
   "metadata": {},
   "outputs": [],
   "source": [
    "def sapxep(a):\n",
    "    col=a.columns.tolist()\n",
    "    col=sorted(col)\n",
    "    return a[col]\n"
   ]
  },
  {
   "cell_type": "code",
   "execution_count": 6,
   "id": "22b02201",
   "metadata": {},
   "outputs": [],
   "source": [
    "df1=sapxep(df1)\n",
    "df2=sapxep(df2)\n",
    "df3=sapxep(df3)\n",
    "df4=sapxep(df4)\n",
    "df5=sapxep(df5)\n",
    "df6=sapxep(df6)\n",
    "df7=sapxep(df7)\n",
    "df8=sapxep(df8)\n",
    "df9=sapxep(df9)\n",
    "df10=sapxep(df10)"
   ]
  },
  {
   "cell_type": "code",
   "execution_count": 7,
   "id": "ba572028",
   "metadata": {},
   "outputs": [],
   "source": [
    "data=pd.concat([df1,df2,df3,df4,df5,df6,df7,df8,df9,df10],ignore_index=True)\n",
    "data.to_csv(\"datamemoire.csv\")"
   ]
  },
  {
   "cell_type": "code",
   "execution_count": 8,
   "id": "b59985fa",
   "metadata": {},
   "outputs": [
    {
     "name": "stdout",
     "output_type": "stream",
     "text": [
      "                    created_at            id               source  \\\n",
      "0     2021-10-19T19:24:49.000Z  1.450543e+18  Twitter for Android   \n",
      "1     2021-10-19T17:28:10.000Z  1.450514e+18   Twitter for iPhone   \n",
      "2     2021-10-19T15:39:43.000Z  1.450487e+18   Twitter for iPhone   \n",
      "3     2021-10-19T14:48:59.000Z  1.450474e+18   Twitter for iPhone   \n",
      "4     2021-10-19T11:14:42.000Z  1.450420e+18  Twitter for Android   \n",
      "...                        ...           ...                  ...   \n",
      "4339  2020-03-06T06:51:45.000Z  1.235820e+18  Twitter for Android   \n",
      "4340  2020-02-01T01:13:34.000Z  1.223410e+18  Twitter for Android   \n",
      "4341  2020-01-30T21:05:58.000Z  1.222990e+18   Twitter for iPhone   \n",
      "4342  2020-01-15T12:10:57.000Z  1.217420e+18  Twitter for Android   \n",
      "4343  2020-01-15T05:54:35.000Z  1.217320e+18  Twitter for Android   \n",
      "\n",
      "                                                   text  \n",
      "0     @TPMP Moi je vous soutiens depuis le début de ...  \n",
      "1     @MatouEcureuil Je vais porter le masque dans l...  \n",
      "2     @PENELOPPE192 @ElianeCarrier @aragon_jb @yvesb...  \n",
      "3     Un mensonge de plus va tomber le pass sanitair...  \n",
      "4     @cjvpourwissam L #igpn recyclée pour étudier l...  \n",
      "...                                                 ...  \n",
      "4339  @JeNeFumePlus Le bon côté : reconnaissance des...  \n",
      "4340  Allez jouer à la poupée... 4 labos ( GSK, Sano...  \n",
      "4341  @Vivons_en_Forme @hautsdefrance @RamsaySante @...  \n",
      "4342  Xanax, Bipreterax, Coveram, etc. Les laboratoi...  \n",
      "4343  \"Prix des génériques et princeps : Pfizer et S...  \n",
      "\n",
      "[4344 rows x 4 columns]\n"
     ]
    }
   ],
   "source": [
    "print(data)"
   ]
  },
  {
   "cell_type": "code",
   "execution_count": 9,
   "id": "6cca082b",
   "metadata": {},
   "outputs": [
    {
     "data": {
      "text/plain": [
       "0       @TPMP Moi je vous soutiens depuis le début de ...\n",
       "1       @MatouEcureuil Je vais porter le masque dans l...\n",
       "2       @PENELOPPE192 @ElianeCarrier @aragon_jb @yvesb...\n",
       "3       Un mensonge de plus va tomber le pass sanitair...\n",
       "4       @cjvpourwissam L #igpn recyclée pour étudier l...\n",
       "                              ...                        \n",
       "4339    @JeNeFumePlus Le bon côté : reconnaissance des...\n",
       "4340    Allez jouer à la poupée... 4 labos ( GSK, Sano...\n",
       "4341    @Vivons_en_Forme @hautsdefrance @RamsaySante @...\n",
       "4342    Xanax, Bipreterax, Coveram, etc. Les laboratoi...\n",
       "4343    \"Prix des génériques et princeps : Pfizer et S...\n",
       "Name: text, Length: 4344, dtype: object"
      ]
     },
     "execution_count": 9,
     "metadata": {},
     "output_type": "execute_result"
    }
   ],
   "source": [
    "data['text']"
   ]
  },
  {
   "cell_type": "code",
   "execution_count": null,
   "id": "8cb8cf87",
   "metadata": {},
   "outputs": [],
   "source": []
  }
 ],
 "metadata": {
  "kernelspec": {
   "display_name": "Python 3",
   "language": "python",
   "name": "python3"
  },
  "language_info": {
   "codemirror_mode": {
    "name": "ipython",
    "version": 3
   },
   "file_extension": ".py",
   "mimetype": "text/x-python",
   "name": "python",
   "nbconvert_exporter": "python",
   "pygments_lexer": "ipython3",
   "version": "3.8.8"
  }
 },
 "nbformat": 4,
 "nbformat_minor": 5
}
